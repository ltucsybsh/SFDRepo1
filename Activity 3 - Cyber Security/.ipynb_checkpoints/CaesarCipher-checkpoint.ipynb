{
 "cells": [
  {
   "cell_type": "code",
   "execution_count": 2,
   "metadata": {},
   "outputs": [
    {
     "name": "stdout",
     "output_type": "stream",
     "text": [
      "Your decrypted message is:\n",
      "\n",
      "Hszzc\n"
     ]
    }
   ],
   "source": [
    "def encrypt_txt():\n",
    "    \n",
    "    #enter your encrypted message(string) below\n",
    "    msg = input(\"Enter the message to be encrypted: \").strip()\n",
    "    \n",
    "    letters=\"abcdefghijklmnopqrstuvwxyz\"\n",
    "    \n",
    "    #enter the key value to decrypt\n",
    "    k = int(input(\"Enter the encryption key (k value): \"))\n",
    "    encrypted_message = \"\"\n",
    "\n",
    "    for ch in msg:\n",
    "        if ch in letters:\n",
    "            position = letters.find(ch)\n",
    "            posnew = (position + k) % 26\n",
    "            chnew = letters[posnew]\n",
    "            encrypted_message += chnew\n",
    "        else:\n",
    "            encrypted_message += ch\n",
    "    print(\"The encrypted message is:\\n\")\n",
    "    print(encrypted_message)\n",
    "\n",
    "encrypt_txt()\n"
   ]
  },
  {
   "cell_type": "code",
   "execution_count": 3,
   "metadata": {},
   "outputs": [
    {
     "name": "stdout",
     "output_type": "stream",
     "text": [
      "Your decrypted message is:\n",
      "\n",
      "Hello\n"
     ]
    }
   ],
   "source": [
    "def decrypt():\n",
    "    \n",
    "    #enter your encrypted message(string) below\n",
    "    encrypted_message = input(\"Enter the message i.e to be decrypted: \").strip()\n",
    "    \n",
    "    letters=\"abcdefghijklmnopqrstuvwxyz\"\n",
    "    \n",
    "    #enter the key value to decrypt\n",
    "    k = int(input(\"Enter the key to decrypt: \"))\n",
    "    decrypted_message = \"\"\n",
    "\n",
    "    for ch in encrypted_message:\n",
    "\n",
    "        if ch in letters:\n",
    "            position = letters.find(ch)\n",
    "            posnew = (position - k) % 26\n",
    "            new_char = letters[posnew]\n",
    "            decrypted_message += new_char\n",
    "        else:\n",
    "            decrypted_message += ch\n",
    "    print(\"Your decrypted message is:\\n\")\n",
    "    print(decrypted_message)\n",
    "\n",
    "decrypt()"
   ]
  }
 ],
 "metadata": {
  "kernelspec": {
   "display_name": "Python 3 (ipykernel)",
   "language": "python",
   "name": "python3"
  },
  "language_info": {
   "codemirror_mode": {
    "name": "ipython",
    "version": 3
   },
   "file_extension": ".py",
   "mimetype": "text/x-python",
   "name": "python",
   "nbconvert_exporter": "python",
   "pygments_lexer": "ipython3",
   "version": "3.9.13"
  }
 },
 "nbformat": 4,
 "nbformat_minor": 2
}
